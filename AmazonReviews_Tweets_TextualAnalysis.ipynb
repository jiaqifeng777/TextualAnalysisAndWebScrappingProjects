{
 "cells": [
  {
   "cell_type": "markdown",
   "metadata": {},
   "source": [
    "## Content in Amazon review data\n",
    "\n",
    "\n",
    "The dataset `reviews.txt` contains [Amazon reviews](http://jmcauley.ucsd.edu/data/amazon/) for ~200k phones and phone accessories. This dataset has been \"cleaned\" for you. The goal of this section is to create a function that takes in the review dataset and a review and returns the word that \"best summarizes the review\" using TF-IDF.'\n",
    "\n",
    "1. function `tfidf_data(review, reviews)` that takes a review as well as the review data and returns a dataframe:\n",
    "    - indexed by the words in `review`,\n",
    "    - with columns given by (a) the number of times each word is found in the review (`cnt`), (b) the term frequency for each word (`tf`), (c) the inverse document frequency for each word (`idf`), and (d) the TF-IDF for each word (`tfidf`).\n",
    "    \n",
    "2. function `relevant_word(tfidf_data)` which takes in a dataframe as above and returns the word that \"best summarizes the review\" described by `tfidf_data`.\n",
    "\n"
   ]
  },
  {
   "cell_type": "code",
   "execution_count": 72,
   "metadata": {},
   "outputs": [
    {
     "data": {
      "text/plain": [
       "'this is a great new case design that i have not seen before it has a slim silicone skin that really locks in the phone to cover and protect your phone from spills and such and also a hard polycarbonate outside shell cover to guard it against damage  this case also comes with different interchangeable skins and covers to create multiple color combinations  this is a different kind of case than the usual chunk of plastic  it is innovative and suits the iphone 5 perfectly'"
      ]
     },
     "execution_count": 72,
     "metadata": {},
     "output_type": "execute_result"
    }
   ],
   "source": [
    "fp = os.path.join('data', 'reviews.txt')\n",
    "reviews = pd.read_csv(fp, header=None, squeeze=True)\n",
    "review = open(os.path.join('data', 'review.txt'), encoding='utf8').read().strip()\n",
    "review"
   ]
  },
  {
   "cell_type": "code",
   "execution_count": 75,
   "metadata": {},
   "outputs": [
    {
     "data": {
      "text/plain": [
       "and     5\n",
       "a       4\n",
       "this    3\n",
       "is      3\n",
       "to      3\n",
       "dtype: int64"
      ]
     },
     "execution_count": 75,
     "metadata": {},
     "output_type": "execute_result"
    }
   ],
   "source": [
    "cnt = pd.Series(review.split()).value_counts()\n",
    "cnt.head()"
   ]
  },
  {
   "cell_type": "code",
   "execution_count": 76,
   "metadata": {},
   "outputs": [
    {
     "data": {
      "text/plain": [
       "'\\\\band\\\\b'"
      ]
     },
     "execution_count": 76,
     "metadata": {},
     "output_type": "execute_result"
    }
   ],
   "source": [
    "'\\\\b%s\\\\b' % 'and'"
   ]
  },
  {
   "cell_type": "code",
   "execution_count": 359,
   "metadata": {},
   "outputs": [],
   "source": [
    "df = pd.DataFrame([],index = cnt.index)\n",
    "for word in cnt.index:\n",
    "    pat = '\\\\b%s\\\\b' % word\n",
    "    tf = len(re.findall(pat, review)) / cnt.sum()   \n",
    "    idf = np.log(len(reviews) / reviews.str.contains(pat).sum())\n",
    "    df.loc[word,'idf'] = idf\n",
    "    df.loc[word,'tf'] = tf\n",
    "    df.loc[word,'tfidf'] = tf * idf"
   ]
  },
  {
   "cell_type": "code",
   "execution_count": 360,
   "metadata": {},
   "outputs": [
    {
     "data": {
      "text/plain": [
       "'chunk'"
      ]
     },
     "execution_count": 360,
     "metadata": {},
     "output_type": "execute_result"
    }
   ],
   "source": [
    "df['tfidf'].idxmax()"
   ]
  },
  {
   "cell_type": "code",
   "execution_count": 361,
   "metadata": {},
   "outputs": [
    {
     "data": {
      "text/html": [
       "<div>\n",
       "<style scoped>\n",
       "    .dataframe tbody tr th:only-of-type {\n",
       "        vertical-align: middle;\n",
       "    }\n",
       "\n",
       "    .dataframe tbody tr th {\n",
       "        vertical-align: top;\n",
       "    }\n",
       "\n",
       "    .dataframe thead th {\n",
       "        text-align: right;\n",
       "    }\n",
       "</style>\n",
       "<table border=\"1\" class=\"dataframe\">\n",
       "  <thead>\n",
       "    <tr style=\"text-align: right;\">\n",
       "      <th></th>\n",
       "      <th>cnt</th>\n",
       "      <th>tf</th>\n",
       "      <th>idf</th>\n",
       "      <th>tfidf</th>\n",
       "    </tr>\n",
       "  </thead>\n",
       "  <tbody>\n",
       "    <tr>\n",
       "      <th>and</th>\n",
       "      <td>5</td>\n",
       "      <td>0.058824</td>\n",
       "      <td>0.248188</td>\n",
       "      <td>0.014599</td>\n",
       "    </tr>\n",
       "    <tr>\n",
       "      <th>a</th>\n",
       "      <td>4</td>\n",
       "      <td>0.047059</td>\n",
       "      <td>0.360392</td>\n",
       "      <td>0.016960</td>\n",
       "    </tr>\n",
       "    <tr>\n",
       "      <th>this</th>\n",
       "      <td>3</td>\n",
       "      <td>0.035294</td>\n",
       "      <td>0.441295</td>\n",
       "      <td>0.015575</td>\n",
       "    </tr>\n",
       "    <tr>\n",
       "      <th>it</th>\n",
       "      <td>3</td>\n",
       "      <td>0.035294</td>\n",
       "      <td>0.247858</td>\n",
       "      <td>0.008748</td>\n",
       "    </tr>\n",
       "    <tr>\n",
       "      <th>to</th>\n",
       "      <td>3</td>\n",
       "      <td>0.035294</td>\n",
       "      <td>0.382649</td>\n",
       "      <td>0.013505</td>\n",
       "    </tr>\n",
       "  </tbody>\n",
       "</table>\n",
       "</div>"
      ],
      "text/plain": [
       "      cnt        tf       idf     tfidf\n",
       "and     5  0.058824  0.248188  0.014599\n",
       "a       4  0.047059  0.360392  0.016960\n",
       "this    3  0.035294  0.441295  0.015575\n",
       "it      3  0.035294  0.247858  0.008748\n",
       "to      3  0.035294  0.382649  0.013505"
      ]
     },
     "execution_count": 361,
     "metadata": {},
     "output_type": "execute_result"
    }
   ],
   "source": [
    "df['cnt'] = cnt\n",
    "df = df[['cnt', 'tf', 'idf', 'tfidf']]\n",
    "df.head()"
   ]
  },
  {
   "cell_type": "code",
   "execution_count": null,
   "metadata": {},
   "outputs": [],
   "source": []
  },
  {
   "cell_type": "code",
   "execution_count": 77,
   "metadata": {},
   "outputs": [],
   "source": [
    "def tfidf_data(review, reviews):\n",
    "    \"\"\"\n",
    "    :Example:\n",
    "    >>> fp = os.path.join('data', 'reviews.txt')\n",
    "    >>> reviews = pd.read_csv(fp, header=None, squeeze=True)\n",
    "    >>> review = open(os.path.join('data', 'review.txt'), encoding='utf8').read().strip()\n",
    "    >>> out = tfidf_data(review, reviews)\n",
    "    >>> out['cnt'].sum()\n",
    "    85\n",
    "    >>> 'before' in out.index\n",
    "    True\n",
    "    \"\"\"\n",
    "    cnt = pd.Series(review.split()).value_counts()\n",
    "    df = pd.DataFrame([],index = cnt.index)\n",
    "    for word in cnt.index:\n",
    "        pat = '\\\\b%s\\\\b' % word\n",
    "        tf = len(re.findall(pat, review)) / cnt.sum()   \n",
    "        idf = np.log(len(reviews) / reviews.str.contains(pat).sum())\n",
    "        df.loc[word,'idf'] = idf\n",
    "        df.loc[word,'tf'] = tf\n",
    "        df.loc[word,'tfidf'] = tf * idf\n",
    "        \n",
    "    df['cnt'] = cnt\n",
    "    df = df[['cnt', 'tf', 'idf', 'tfidf']]\n",
    "    \n",
    "    return df"
   ]
  },
  {
   "cell_type": "code",
   "execution_count": 78,
   "metadata": {},
   "outputs": [
    {
     "data": {
      "text/plain": [
       "85"
      ]
     },
     "execution_count": 78,
     "metadata": {},
     "output_type": "execute_result"
    }
   ],
   "source": [
    "fp = os.path.join('data', 'reviews.txt')\n",
    "reviews = pd.read_csv(fp, header=None, squeeze=True)\n",
    "review= open(os.path.join('data', 'review.txt'), encoding='utf8').read().strip()\n",
    "out = lab.tfidf_data(review, reviews)\n",
    "out['cnt'].sum()"
   ]
  },
  {
   "cell_type": "code",
   "execution_count": 80,
   "metadata": {},
   "outputs": [
    {
     "data": {
      "text/html": [
       "<div>\n",
       "<style scoped>\n",
       "    .dataframe tbody tr th:only-of-type {\n",
       "        vertical-align: middle;\n",
       "    }\n",
       "\n",
       "    .dataframe tbody tr th {\n",
       "        vertical-align: top;\n",
       "    }\n",
       "\n",
       "    .dataframe thead th {\n",
       "        text-align: right;\n",
       "    }\n",
       "</style>\n",
       "<table border=\"1\" class=\"dataframe\">\n",
       "  <thead>\n",
       "    <tr style=\"text-align: right;\">\n",
       "      <th></th>\n",
       "      <th>cnt</th>\n",
       "      <th>tf</th>\n",
       "      <th>idf</th>\n",
       "      <th>tfidf</th>\n",
       "    </tr>\n",
       "  </thead>\n",
       "  <tbody>\n",
       "    <tr>\n",
       "      <th>and</th>\n",
       "      <td>5</td>\n",
       "      <td>0.058824</td>\n",
       "      <td>0.248188</td>\n",
       "      <td>0.014599</td>\n",
       "    </tr>\n",
       "    <tr>\n",
       "      <th>a</th>\n",
       "      <td>4</td>\n",
       "      <td>0.047059</td>\n",
       "      <td>0.360392</td>\n",
       "      <td>0.016960</td>\n",
       "    </tr>\n",
       "    <tr>\n",
       "      <th>this</th>\n",
       "      <td>3</td>\n",
       "      <td>0.035294</td>\n",
       "      <td>0.441295</td>\n",
       "      <td>0.015575</td>\n",
       "    </tr>\n",
       "    <tr>\n",
       "      <th>is</th>\n",
       "      <td>3</td>\n",
       "      <td>0.035294</td>\n",
       "      <td>0.516393</td>\n",
       "      <td>0.018226</td>\n",
       "    </tr>\n",
       "    <tr>\n",
       "      <th>to</th>\n",
       "      <td>3</td>\n",
       "      <td>0.035294</td>\n",
       "      <td>0.382649</td>\n",
       "      <td>0.013505</td>\n",
       "    </tr>\n",
       "  </tbody>\n",
       "</table>\n",
       "</div>"
      ],
      "text/plain": [
       "      cnt        tf       idf     tfidf\n",
       "and     5  0.058824  0.248188  0.014599\n",
       "a       4  0.047059  0.360392  0.016960\n",
       "this    3  0.035294  0.441295  0.015575\n",
       "is      3  0.035294  0.516393  0.018226\n",
       "to      3  0.035294  0.382649  0.013505"
      ]
     },
     "execution_count": 80,
     "metadata": {},
     "output_type": "execute_result"
    }
   ],
   "source": [
    "out.head()"
   ]
  },
  {
   "cell_type": "code",
   "execution_count": 316,
   "metadata": {},
   "outputs": [],
   "source": [
    "def relevant_word(out):\n",
    "    \"\"\"\n",
    "    :Example:\n",
    "    >>> fp = os.path.join('data', 'reviews.txt')\n",
    "    >>> reviews = pd.read_csv(fp, header=None, squeeze=True)\n",
    "    >>> review = open(os.path.join('data', 'review.txt'), encoding='utf8').read().strip()\n",
    "    >>> out = tfidf_data(review, reviews)\n",
    "    >>> relevant_word(out) in out.index\n",
    "    True\n",
    "    \"\"\"\n",
    "    return out['tfidf'].idxmax()"
   ]
  },
  {
   "cell_type": "code",
   "execution_count": 369,
   "metadata": {},
   "outputs": [
    {
     "data": {
      "text/plain": [
       "'chunk'"
      ]
     },
     "execution_count": 369,
     "metadata": {},
     "output_type": "execute_result"
    }
   ],
   "source": [
    "lab.relevant_word(out)"
   ]
  },
  {
   "cell_type": "markdown",
   "metadata": {},
   "source": [
    "### Tweet Analysis: Internet Research Agency\n",
    "\n",
    "The dataset `data/ira.csv` contains tweets tagged by Twitter as likely being posted by the *Internet Research Angency* (the tweet factory facing allegations for attempting to influence US political elections).\n",
    "\n",
    "- We will look at the hashtags present in the text and trends in their makeup.\n",
    "- We will prepare this dataset for modeling by creating features out of the text fields.\n",
    "\n",
    "\n",
    "* function `hashtag_list` that takes in a column of tweet-text and returns a column containing the list of hashtags present in the tweet text. If a tweet doesn't contain a hashtag, the function should return an empty list.\n",
    "\n",
    "* function `most_common_hashtag` that takes in a column of hashtag-lists (the output above) and returns a column consisting a single hashtag from the tweet-text. \n",
    "    - If the text has no hashtags, the entry should be `NaN`,\n",
    "    - If the text has one distinct hashtag, the entry should contain that hashtag,\n",
    "    - If the text has more than one hashtag, the entry should be the most common hashtag (among all hashtags in the column). If there is a tie for most common, any of the most common can be returned.\n",
    "       "
   ]
  },
  {
   "cell_type": "code",
   "execution_count": 18,
   "metadata": {},
   "outputs": [
    {
     "data": {
      "text/html": [
       "<div>\n",
       "<style scoped>\n",
       "    .dataframe tbody tr th:only-of-type {\n",
       "        vertical-align: middle;\n",
       "    }\n",
       "\n",
       "    .dataframe tbody tr th {\n",
       "        vertical-align: top;\n",
       "    }\n",
       "\n",
       "    .dataframe thead th {\n",
       "        text-align: right;\n",
       "    }\n",
       "</style>\n",
       "<table border=\"1\" class=\"dataframe\">\n",
       "  <thead>\n",
       "    <tr style=\"text-align: right;\">\n",
       "      <th></th>\n",
       "      <th>id</th>\n",
       "      <th>name</th>\n",
       "      <th>date</th>\n",
       "      <th>text</th>\n",
       "    </tr>\n",
       "  </thead>\n",
       "  <tbody>\n",
       "    <tr>\n",
       "      <th>0</th>\n",
       "      <td>3906258</td>\n",
       "      <td>ea85ac8be1e8ab479064ca4c0fe3ac6587f76b1ef97452...</td>\n",
       "      <td>2016-11-16 09:04</td>\n",
       "      <td>The Best Exercise To Lose Belly Fat In 2 weeks...</td>\n",
       "    </tr>\n",
       "    <tr>\n",
       "      <th>1</th>\n",
       "      <td>1051443</td>\n",
       "      <td>8e58ab0f46d273103d9e71aa92cdaffb6e330ec7d15ae5...</td>\n",
       "      <td>2016-12-24 04:31</td>\n",
       "      <td>RT @Philanthropy: Dozens of ‘hate groups’ have...</td>\n",
       "    </tr>\n",
       "    <tr>\n",
       "      <th>2</th>\n",
       "      <td>2823399</td>\n",
       "      <td>Room Of Rumor</td>\n",
       "      <td>2016-08-18 20:26</td>\n",
       "      <td>Artificial intelligence can find, map poverty,...</td>\n",
       "    </tr>\n",
       "    <tr>\n",
       "      <th>3</th>\n",
       "      <td>272878</td>\n",
       "      <td>San Francisco Daily</td>\n",
       "      <td>2016-03-18 19:28</td>\n",
       "      <td>Uber balks at rules proposed by world’s busies...</td>\n",
       "    </tr>\n",
       "    <tr>\n",
       "      <th>4</th>\n",
       "      <td>7697802</td>\n",
       "      <td>41bb9ae5991f53996752a0ab8dd36b543821abca8d5aed...</td>\n",
       "      <td>2016-07-30 15:44</td>\n",
       "      <td>RT @dirtroaddiva1: #IHatePokemonGoBecause he  ...</td>\n",
       "    </tr>\n",
       "  </tbody>\n",
       "</table>\n",
       "</div>"
      ],
      "text/plain": [
       "        id                                               name  \\\n",
       "0  3906258  ea85ac8be1e8ab479064ca4c0fe3ac6587f76b1ef97452...   \n",
       "1  1051443  8e58ab0f46d273103d9e71aa92cdaffb6e330ec7d15ae5...   \n",
       "2  2823399                                      Room Of Rumor   \n",
       "3   272878                                San Francisco Daily   \n",
       "4  7697802  41bb9ae5991f53996752a0ab8dd36b543821abca8d5aed...   \n",
       "\n",
       "               date                                               text  \n",
       "0  2016-11-16 09:04  The Best Exercise To Lose Belly Fat In 2 weeks...  \n",
       "1  2016-12-24 04:31  RT @Philanthropy: Dozens of ‘hate groups’ have...  \n",
       "2  2016-08-18 20:26  Artificial intelligence can find, map poverty,...  \n",
       "3  2016-03-18 19:28  Uber balks at rules proposed by world’s busies...  \n",
       "4  2016-07-30 15:44  RT @dirtroaddiva1: #IHatePokemonGoBecause he  ...  "
      ]
     },
     "execution_count": 18,
     "metadata": {},
     "output_type": "execute_result"
    }
   ],
   "source": [
    "fp = os.path.join('data', 'ira.csv')\n",
    "ira = pd.read_csv(fp, names=['id', 'name', 'date', 'text'])\n",
    "ira.head()"
   ]
  },
  {
   "cell_type": "code",
   "execution_count": 30,
   "metadata": {},
   "outputs": [],
   "source": [
    "def hashtag_list(tweet_text):\n",
    "    \"\"\"\n",
    "    :Example:\n",
    "    >>> testdata = [['RT @DSC80: Text-cleaning is cool! #NLP https://t.co/xsfdw88d #NLP1 #NLP1']]\n",
    "    >>> test = pd.DataFrame(testdata, columns=['text'])\n",
    "    >>> out = hashtag_list(test['text'])\n",
    "    >>> (out.iloc[0] == ['NLP', 'NLP1', 'NLP1'])\n",
    "    True\n",
    "    \"\"\"\n",
    "\n",
    "    col = tweet_text.apply(lambda x: re.findall(r'(?<=#)[^\\s]*', x))\n",
    "    return col\n"
   ]
  },
  {
   "cell_type": "code",
   "execution_count": null,
   "metadata": {},
   "outputs": [],
   "source": []
  },
  {
   "cell_type": "code",
   "execution_count": 40,
   "metadata": {},
   "outputs": [],
   "source": [
    "def most_common_hashtag(tweet_lists):\n",
    "    \"\"\"\n",
    "    :Example:\n",
    "    >>> testdata = [['RT @DSC80: Text-cleaning is cool! #NLP https://t.co/xsfdw88d #NLP1 #NLP1']]\n",
    "    >>> test = hashtag_list(pd.DataFrame(testdata, columns=['text'])['text'])\n",
    "    >>> most_common_hashtag(test).iloc[0]\n",
    "    'NLP1'\n",
    "    \"\"\"\n",
    "\n",
    "    hashtag_lists = tweet_lists\n",
    "    hashtags = pd.Series(hashtag_lists.sum()).value_counts()\n",
    "    hashtags_dic = hashtag_lists.apply(lambda x: {tag: hashtags[tag] for tag in x})\n",
    "    common = hashtags_dic.apply(lambda x: pd.Series(x).idxmax() if len(x)!= 0 else np.nan)\n",
    "    \n",
    "    return common\n",
    "    "
   ]
  },
  {
   "cell_type": "code",
   "execution_count": 84,
   "metadata": {},
   "outputs": [
    {
     "data": {
      "text/plain": [
       "'NLP1'"
      ]
     },
     "execution_count": 84,
     "metadata": {},
     "output_type": "execute_result"
    }
   ],
   "source": [
    "testdata = [['RT @DSC80: Text-cleaning is cool! #NLP https://t.co/xsfdw88d #NLP1 #NLP1']]\n",
    "test = hashtag_list(pd.DataFrame(testdata, columns=['text'])['text'])\n",
    "most_common_hashtag(test).iloc[0]"
   ]
  },
  {
   "cell_type": "code",
   "execution_count": null,
   "metadata": {},
   "outputs": [],
   "source": []
  },
  {
   "cell_type": "markdown",
   "metadata": {},
   "source": [
    "\n",
    "function `create_features` that takes in the `ira` data and returns a dataframe with the same index as `ira` (i.e. the rows correspond to the same tweets) and the following columns:\n",
    "* `num_hashtags` gives the number of hashtags present in a tweet,\n",
    "* `mc_hashtags` gives the most common hashtag associated to a tweet (as given by the problem above),\n",
    "* `num_tags` gives the number of tags a given tweet has (look for the presence of `@`),\n",
    "* `num_links` gives the number of hyper-links present in a given tweet \n",
    "    - (a hyper-link is a string starting with `http(s)://` not followed by whitespaces),\n",
    "* A boolean column `is_retweet` that describes if the given tweet is a retweet (i.e. `RT`),\n",
    "* A 'clean' text field `text` that contains the tweet text with:\n",
    "    - The non-alphanumeric characters removed (except spaces),\n",
    "    - All words should be separated by exactly one space,\n",
    "    - The characters all lowercase,\n",
    "    - All the meta-information above (Retweet info, tags, hyperlinks, hashtags) removed.\n"
   ]
  },
  {
   "cell_type": "code",
   "execution_count": 14,
   "metadata": {},
   "outputs": [
    {
     "data": {
      "text/plain": [
       "0           The Best Exercise To Lose Belly Fat In 2 weeks\n",
       "1        Dozens of hate groups have charity status Chro...\n",
       "2        Artificial intelligence can find map poverty r...\n",
       "3        Uber balks at rules proposed by world s busies...\n",
       "4        he didn t let me do that for a Klondike bar Sc...\n",
       "                               ...                        \n",
       "89995             Trump Kasich shouldn t be allowed to run\n",
       "89996               The last step at the top of the stairs\n",
       "89997    When someone said the first link from in my ra...\n",
       "89998    I speak the Word of God therefore because the ...\n",
       "89999                         10 Things to Know for Monday\n",
       "Name: text, Length: 90000, dtype: object"
      ]
     },
     "execution_count": 14,
     "metadata": {},
     "output_type": "execute_result"
    }
   ],
   "source": [
    "text = ira['text'].apply(lambda x: re.sub('^[RT]+\\s', '', x))\n",
    "text = text.apply(lambda x: re.sub('(?<=@)[^\\s\\:]*', '', x))\n",
    "text = text.apply(lambda x: re.sub('(?<=#)[^\\s]*', '', x))\n",
    "text = text.apply(lambda x: re.sub('(?=http)[^\\s]*', '', x))\n",
    "text = text.apply(lambda x: re.sub('\\W+', ' ', x))\n",
    "text = text.apply(lambda x: x.strip())\n",
    "text"
   ]
  },
  {
   "cell_type": "code",
   "execution_count": 17,
   "metadata": {},
   "outputs": [
    {
     "data": {
      "text/html": [
       "<div>\n",
       "<style scoped>\n",
       "    .dataframe tbody tr th:only-of-type {\n",
       "        vertical-align: middle;\n",
       "    }\n",
       "\n",
       "    .dataframe tbody tr th {\n",
       "        vertical-align: top;\n",
       "    }\n",
       "\n",
       "    .dataframe thead th {\n",
       "        text-align: right;\n",
       "    }\n",
       "</style>\n",
       "<table border=\"1\" class=\"dataframe\">\n",
       "  <thead>\n",
       "    <tr style=\"text-align: right;\">\n",
       "      <th></th>\n",
       "      <th>num_hashtags</th>\n",
       "      <th>mc_hashtags</th>\n",
       "      <th>num_tags</th>\n",
       "      <th>num_links</th>\n",
       "      <th>is_retweet</th>\n",
       "      <th>text</th>\n",
       "    </tr>\n",
       "  </thead>\n",
       "  <tbody>\n",
       "    <tr>\n",
       "      <th>0</th>\n",
       "      <td>4</td>\n",
       "      <td>CatTV</td>\n",
       "      <td>0</td>\n",
       "      <td>2</td>\n",
       "      <td>False</td>\n",
       "      <td>The Best Exercise To Lose Belly Fat In 2 weeks</td>\n",
       "    </tr>\n",
       "    <tr>\n",
       "      <th>1</th>\n",
       "      <td>0</td>\n",
       "      <td>NaN</td>\n",
       "      <td>1</td>\n",
       "      <td>1</td>\n",
       "      <td>True</td>\n",
       "      <td>Dozens of hate groups have charity status Chro...</td>\n",
       "    </tr>\n",
       "    <tr>\n",
       "      <th>2</th>\n",
       "      <td>1</td>\n",
       "      <td>tech</td>\n",
       "      <td>0</td>\n",
       "      <td>0</td>\n",
       "      <td>False</td>\n",
       "      <td>Artificial intelligence can find map poverty r...</td>\n",
       "    </tr>\n",
       "    <tr>\n",
       "      <th>3</th>\n",
       "      <td>1</td>\n",
       "      <td>news</td>\n",
       "      <td>0</td>\n",
       "      <td>0</td>\n",
       "      <td>False</td>\n",
       "      <td>Uber balks at rules proposed by world s busies...</td>\n",
       "    </tr>\n",
       "    <tr>\n",
       "      <th>4</th>\n",
       "      <td>2</td>\n",
       "      <td>IHatePokemonGoBecause</td>\n",
       "      <td>1</td>\n",
       "      <td>1</td>\n",
       "      <td>True</td>\n",
       "      <td>he didn t let me do that for a Klondike bar Sc...</td>\n",
       "    </tr>\n",
       "    <tr>\n",
       "      <th>...</th>\n",
       "      <td>...</td>\n",
       "      <td>...</td>\n",
       "      <td>...</td>\n",
       "      <td>...</td>\n",
       "      <td>...</td>\n",
       "      <td>...</td>\n",
       "    </tr>\n",
       "    <tr>\n",
       "      <th>89995</th>\n",
       "      <td>1</td>\n",
       "      <td>politics</td>\n",
       "      <td>0</td>\n",
       "      <td>1</td>\n",
       "      <td>False</td>\n",
       "      <td>Trump Kasich shouldn t be allowed to run</td>\n",
       "    </tr>\n",
       "    <tr>\n",
       "      <th>89996</th>\n",
       "      <td>1</td>\n",
       "      <td>ThingsYouCantIgnore</td>\n",
       "      <td>1</td>\n",
       "      <td>0</td>\n",
       "      <td>True</td>\n",
       "      <td>The last step at the top of the stairs</td>\n",
       "    </tr>\n",
       "    <tr>\n",
       "      <th>89997</th>\n",
       "      <td>0</td>\n",
       "      <td>NaN</td>\n",
       "      <td>2</td>\n",
       "      <td>1</td>\n",
       "      <td>True</td>\n",
       "      <td>When someone said the first link from in my ra...</td>\n",
       "    </tr>\n",
       "    <tr>\n",
       "      <th>89998</th>\n",
       "      <td>1</td>\n",
       "      <td>rantfortoday</td>\n",
       "      <td>1</td>\n",
       "      <td>0</td>\n",
       "      <td>True</td>\n",
       "      <td>I speak the Word of God therefore because the ...</td>\n",
       "    </tr>\n",
       "    <tr>\n",
       "      <th>89999</th>\n",
       "      <td>1</td>\n",
       "      <td>news</td>\n",
       "      <td>0</td>\n",
       "      <td>1</td>\n",
       "      <td>False</td>\n",
       "      <td>10 Things to Know for Monday</td>\n",
       "    </tr>\n",
       "  </tbody>\n",
       "</table>\n",
       "<p>90000 rows × 6 columns</p>\n",
       "</div>"
      ],
      "text/plain": [
       "       num_hashtags            mc_hashtags  num_tags  num_links  is_retweet  \\\n",
       "0                 4                  CatTV         0          2       False   \n",
       "1                 0                    NaN         1          1        True   \n",
       "2                 1                   tech         0          0       False   \n",
       "3                 1                   news         0          0       False   \n",
       "4                 2  IHatePokemonGoBecause         1          1        True   \n",
       "...             ...                    ...       ...        ...         ...   \n",
       "89995             1               politics         0          1       False   \n",
       "89996             1    ThingsYouCantIgnore         1          0        True   \n",
       "89997             0                    NaN         2          1        True   \n",
       "89998             1           rantfortoday         1          0        True   \n",
       "89999             1                   news         0          1       False   \n",
       "\n",
       "                                                    text  \n",
       "0         The Best Exercise To Lose Belly Fat In 2 weeks  \n",
       "1      Dozens of hate groups have charity status Chro...  \n",
       "2      Artificial intelligence can find map poverty r...  \n",
       "3      Uber balks at rules proposed by world s busies...  \n",
       "4      he didn t let me do that for a Klondike bar Sc...  \n",
       "...                                                  ...  \n",
       "89995           Trump Kasich shouldn t be allowed to run  \n",
       "89996             The last step at the top of the stairs  \n",
       "89997  When someone said the first link from in my ra...  \n",
       "89998  I speak the Word of God therefore because the ...  \n",
       "89999                       10 Things to Know for Monday  \n",
       "\n",
       "[90000 rows x 6 columns]"
      ]
     },
     "execution_count": 17,
     "metadata": {},
     "output_type": "execute_result"
    }
   ],
   "source": [
    "df = pd.DataFrame({'num_hashtags': num_hashtags,\n",
    "                   'mc_hashtags': mc_hashtags,\n",
    "                   'num_tags': num_tags,\n",
    "                   'num_links': num_links,\n",
    "                   'is_retweet': is_retweet,\n",
    "                   'text': text                   \n",
    "                  })\n",
    "df"
   ]
  },
  {
   "cell_type": "code",
   "execution_count": 68,
   "metadata": {},
   "outputs": [],
   "source": [
    "def create_features(ira):\n",
    "    \"\"\"\n",
    "    :Example:\n",
    "    >>> testdata = [['RT @DSC80: Text-cleaning is cool! #NLP https://t.co/xsfdw88d #NLP1 #NLP1']]\n",
    "    >>> test = pd.DataFrame(testdata, columns=['text'])\n",
    "    >>> out = create_features(test)\n",
    "    >>> anscols = ['text', 'num_hashtags', 'mc_hashtags', 'num_tags', 'num_links', 'is_retweet']\n",
    "    >>> ansdata = [['text cleaning is cool', 3, 'NLP1', 1, 1, True]]\n",
    "    >>> ans = pd.DataFrame(ansdata, columns=anscols)\n",
    "    >>> (out == ans).all().all()\n",
    "    True\n",
    "    \"\"\"\n",
    "    hashtags = hashtag_list(ira['text'])\n",
    "    num_hashtags = hashtags.apply(lambda x: len(x))\n",
    "    \n",
    "    hashtag_lists = hashtag_list(ira['text'])\n",
    "    mc_hashtags = most_common_hashtag(hashtag_lists)\n",
    "\n",
    "    tags = ira['text'].apply(lambda x: re.findall(r'(?<=@)[^\\s\\:]*',x))\n",
    "    num_tags = tags.apply(lambda x: len(x))\n",
    "    \n",
    "    links = ira['text'].apply(lambda x: re.findall(r'(?=http)[^\\s]*',x))\n",
    "    num_links = links.apply(lambda x: len(x))\n",
    "    \n",
    "    retweet = ira['text'].apply(lambda x: re.findall(r'^RT',x))\n",
    "    is_retweet = retweet.apply(lambda x: True if len(x)!= 0 else False)\n",
    "    \n",
    "    text = ira['text'].apply(lambda x: re.sub('^[RT]+\\s', '', x))\n",
    "    text = text.apply(lambda x: re.sub('(?<=@)[^\\s\\:]*', '', x))\n",
    "    text = text.apply(lambda x: re.sub('(?<=#)[^\\s]*', '', x))\n",
    "    text = text.apply(lambda x: re.sub('(?=http)[^\\s]*', '', x))\n",
    "    text = text.apply(lambda x: re.sub('\\W+', ' ', x))\n",
    "    text = text.apply(lambda x: x.strip().lower())\n",
    "\n",
    "    df = pd.DataFrame({'text': text,\n",
    "                   'num_hashtags': num_hashtags,\n",
    "                   'mc_hashtags': mc_hashtags,\n",
    "                   'num_tags': num_tags,\n",
    "                   'num_links': num_links,   \n",
    "                   'is_retweet': is_retweet\n",
    "                  })\n",
    "\n",
    "    return df"
   ]
  },
  {
   "cell_type": "code",
   "execution_count": 70,
   "metadata": {},
   "outputs": [
    {
     "data": {
      "text/html": [
       "<div>\n",
       "<style scoped>\n",
       "    .dataframe tbody tr th:only-of-type {\n",
       "        vertical-align: middle;\n",
       "    }\n",
       "\n",
       "    .dataframe tbody tr th {\n",
       "        vertical-align: top;\n",
       "    }\n",
       "\n",
       "    .dataframe thead th {\n",
       "        text-align: right;\n",
       "    }\n",
       "</style>\n",
       "<table border=\"1\" class=\"dataframe\">\n",
       "  <thead>\n",
       "    <tr style=\"text-align: right;\">\n",
       "      <th></th>\n",
       "      <th>text</th>\n",
       "      <th>num_hashtags</th>\n",
       "      <th>mc_hashtags</th>\n",
       "      <th>num_tags</th>\n",
       "      <th>num_links</th>\n",
       "      <th>is_retweet</th>\n",
       "    </tr>\n",
       "  </thead>\n",
       "  <tbody>\n",
       "    <tr>\n",
       "      <th>0</th>\n",
       "      <td>the best exercise to lose belly fat in 2 weeks</td>\n",
       "      <td>4</td>\n",
       "      <td>Exercise</td>\n",
       "      <td>0</td>\n",
       "      <td>2</td>\n",
       "      <td>False</td>\n",
       "    </tr>\n",
       "    <tr>\n",
       "      <th>1</th>\n",
       "      <td>dozens of hate groups have charity status chro...</td>\n",
       "      <td>0</td>\n",
       "      <td>NaN</td>\n",
       "      <td>1</td>\n",
       "      <td>1</td>\n",
       "      <td>True</td>\n",
       "    </tr>\n",
       "    <tr>\n",
       "      <th>2</th>\n",
       "      <td>artificial intelligence can find map poverty r...</td>\n",
       "      <td>1</td>\n",
       "      <td>tech</td>\n",
       "      <td>0</td>\n",
       "      <td>0</td>\n",
       "      <td>False</td>\n",
       "    </tr>\n",
       "    <tr>\n",
       "      <th>3</th>\n",
       "      <td>uber balks at rules proposed by world s busies...</td>\n",
       "      <td>1</td>\n",
       "      <td>news</td>\n",
       "      <td>0</td>\n",
       "      <td>0</td>\n",
       "      <td>False</td>\n",
       "    </tr>\n",
       "    <tr>\n",
       "      <th>4</th>\n",
       "      <td>he didn t let me do that for a klondike bar sc...</td>\n",
       "      <td>2</td>\n",
       "      <td>IHatePokemonGoBecause</td>\n",
       "      <td>1</td>\n",
       "      <td>1</td>\n",
       "      <td>True</td>\n",
       "    </tr>\n",
       "    <tr>\n",
       "      <th>...</th>\n",
       "      <td>...</td>\n",
       "      <td>...</td>\n",
       "      <td>...</td>\n",
       "      <td>...</td>\n",
       "      <td>...</td>\n",
       "      <td>...</td>\n",
       "    </tr>\n",
       "    <tr>\n",
       "      <th>95</th>\n",
       "      <td>malcolm revisited</td>\n",
       "      <td>0</td>\n",
       "      <td>NaN</td>\n",
       "      <td>0</td>\n",
       "      <td>1</td>\n",
       "      <td>False</td>\n",
       "    </tr>\n",
       "    <tr>\n",
       "      <th>96</th>\n",
       "      <td>the frightening image that made me turn and run</td>\n",
       "      <td>1</td>\n",
       "      <td>IWouldPreferToForget</td>\n",
       "      <td>1</td>\n",
       "      <td>1</td>\n",
       "      <td>True</td>\n",
       "    </tr>\n",
       "    <tr>\n",
       "      <th>97</th>\n",
       "      <td>man sought for illegal sexual contact with minor</td>\n",
       "      <td>0</td>\n",
       "      <td>NaN</td>\n",
       "      <td>0</td>\n",
       "      <td>0</td>\n",
       "      <td>False</td>\n",
       "    </tr>\n",
       "    <tr>\n",
       "      <th>98</th>\n",
       "      <td>so satisfying</td>\n",
       "      <td>0</td>\n",
       "      <td>NaN</td>\n",
       "      <td>0</td>\n",
       "      <td>1</td>\n",
       "      <td>False</td>\n",
       "    </tr>\n",
       "    <tr>\n",
       "      <th>99</th>\n",
       "      <td>we have heard reports of vigilante violence si...</td>\n",
       "      <td>0</td>\n",
       "      <td>NaN</td>\n",
       "      <td>2</td>\n",
       "      <td>0</td>\n",
       "      <td>True</td>\n",
       "    </tr>\n",
       "  </tbody>\n",
       "</table>\n",
       "<p>100 rows × 6 columns</p>\n",
       "</div>"
      ],
      "text/plain": [
       "                                                 text  num_hashtags  \\\n",
       "0      the best exercise to lose belly fat in 2 weeks             4   \n",
       "1   dozens of hate groups have charity status chro...             0   \n",
       "2   artificial intelligence can find map poverty r...             1   \n",
       "3   uber balks at rules proposed by world s busies...             1   \n",
       "4   he didn t let me do that for a klondike bar sc...             2   \n",
       "..                                                ...           ...   \n",
       "95                                  malcolm revisited             0   \n",
       "96    the frightening image that made me turn and run             1   \n",
       "97   man sought for illegal sexual contact with minor             0   \n",
       "98                                      so satisfying             0   \n",
       "99  we have heard reports of vigilante violence si...             0   \n",
       "\n",
       "              mc_hashtags  num_tags  num_links  is_retweet  \n",
       "0                Exercise         0          2       False  \n",
       "1                     NaN         1          1        True  \n",
       "2                    tech         0          0       False  \n",
       "3                    news         0          0       False  \n",
       "4   IHatePokemonGoBecause         1          1        True  \n",
       "..                    ...       ...        ...         ...  \n",
       "95                    NaN         0          1       False  \n",
       "96   IWouldPreferToForget         1          1        True  \n",
       "97                    NaN         0          0       False  \n",
       "98                    NaN         0          1       False  \n",
       "99                    NaN         2          0        True  \n",
       "\n",
       "[100 rows x 6 columns]"
      ]
     },
     "execution_count": 70,
     "metadata": {},
     "output_type": "execute_result"
    }
   ],
   "source": [
    "lab.create_features(ira[:100])"
   ]
  },
  {
   "cell_type": "code",
   "execution_count": null,
   "metadata": {},
   "outputs": [],
   "source": []
  }
 ],
 "metadata": {
  "kernelspec": {
   "display_name": "Python 3",
   "language": "python",
   "name": "python3"
  },
  "language_info": {
   "codemirror_mode": {
    "name": "ipython",
    "version": 3
   },
   "file_extension": ".py",
   "mimetype": "text/x-python",
   "name": "python",
   "nbconvert_exporter": "python",
   "pygments_lexer": "ipython3",
   "version": "3.7.6"
  }
 },
 "nbformat": 4,
 "nbformat_minor": 2
}
